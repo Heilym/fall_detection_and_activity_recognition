{
 "cells": [
  {
   "cell_type": "markdown",
   "metadata": {},
   "source": [
    "# UR-Fall"
   ]
  },
  {
   "cell_type": "markdown",
   "metadata": {},
   "source": [
    "## 1. Data Preparation"
   ]
  },
  {
   "cell_type": "markdown",
   "metadata": {},
   "source": [
    "### Libraries"
   ]
  },
  {
   "cell_type": "code",
   "execution_count": null,
   "metadata": {},
   "outputs": [],
   "source": [
    "import json\n",
    "import pandas\n",
    "\n",
    "import warnings\n",
    "warnings.filterwarnings('ignore')"
   ]
  },
  {
   "cell_type": "markdown",
   "metadata": {},
   "source": [
    "### Downloads files"
   ]
  },
  {
   "cell_type": "markdown",
   "metadata": {},
   "source": [
    "From http://fenix.univ.rzeszow.pl/~mkepski/ds/uf.html "
   ]
  },
  {
   "cell_type": "markdown",
   "metadata": {},
   "source": [
    "Image files to 'IMG_UR_FALL'"
   ]
  },
  {
   "cell_type": "markdown",
   "metadata": {},
   "source": [
    "CSV files to Root Path"
   ]
  },
  {
   "cell_type": "markdown",
   "metadata": {},
   "source": [
    "### Alphapose Execution"
   ]
  },
  {
   "cell_type": "markdown",
   "metadata": {},
   "source": [
    "command: python demo.py --indir 'IMG_UR_FALL'"
   ]
  },
  {
   "cell_type": "markdown",
   "metadata": {},
   "source": [
    "Output file is alphapose-results.json and this file is included in root path"
   ]
  },
  {
   "cell_type": "markdown",
   "metadata": {},
   "source": [
    "### Output processing"
   ]
  },
  {
   "cell_type": "markdown",
   "metadata": {},
   "source": [
    "#### Process Labels"
   ]
  },
  {
   "cell_type": "code",
   "execution_count": null,
   "metadata": {},
   "outputs": [],
   "source": [
    "labels_dict = {}\n",
    "\n",
    "files = [\"urfall-cam0-adls.csv\",\"urfall-cam0-falls.csv\"]\n",
    "\n",
    "for file in files:\n",
    "    opened_file = open(file, \"r\")\n",
    "    for line in opened_file.readlines():\n",
    "        filename = \"{}-cam0-rgb-{}.png\".format(line.split(',')[0],line.split(',')[1].zfill(3))\n",
    "        label = line.split(',')[2].split('\\n')[0]\n",
    "        labels_dict[filename] = label\n",
    "    opened_file.close()\n",
    "    \n",
    "print(\"Total labels: {}\".format(len(labels_dict)))"
   ]
  },
  {
   "cell_type": "markdown",
   "metadata": {},
   "source": [
    "#### Process JSON"
   ]
  },
  {
   "cell_type": "code",
   "execution_count": null,
   "metadata": {},
   "outputs": [],
   "source": [
    "dict_columns = ['X_nose','Y_nose','confidence_nose',\n",
    "           'X_Leye','Y_Leye','confidence_Leye',\n",
    "           'X_Reye','Y_Reye','confidence_Reye',\n",
    "           'X_Lear','Y_Lear','confidence_Lear',\n",
    "           'X_Rear','Y_Rear','confidence_Rear',\n",
    "           'X_LShoulder','Y_LShoulder','confidence_LShoulder',\n",
    "           'X_RShoulder','Y_RShoulder','confidence_RShoulder',\n",
    "           'X_LElbow','Y_LElbow','confidence_LElbow',\n",
    "           'X_RElbow','Y_RElbow','confidence_RElbow',\n",
    "           'X_LWrist','Y_LWrist','confidence_LWrist',\n",
    "           'X_RWrist','Y_RWrist','confidence_RWrist',\n",
    "           'X_LHip','Y_LHip','confidence_LHip',\n",
    "           'X_RHip','Y_RHip','confidence_RHip',\n",
    "           'X_LKnee','Y_LKnee','confidence_LKnee',\n",
    "           'X_RKnee','Y_RKnee','confidence_RKnee',\n",
    "           'X_LAnkle','Y_LAnkle','confidence_LAnkle',\n",
    "           'X_RAnkle','Y_RAnkle','confidence_RAnkle',\n",
    "           'Label','Score','Image'\n",
    "           ]"
   ]
  },
  {
   "cell_type": "code",
   "execution_count": null,
   "metadata": {},
   "outputs": [],
   "source": [
    "with open('alphapose-results.json') as json_file:\n",
    "    d = json.load(json_file)\n",
    "    data = pandas.DataFrame(columns = dict_columns)\n",
    "    for s in d:\n",
    "        try:\n",
    "            points = s['keypoints']\n",
    "            label = [labels_dict[s['image_id']]]\n",
    "            score = [s['score']]\n",
    "            image = [s['image_id']]\n",
    "            if labels_dict[s['image_id']]:\n",
    "                data.loc[len(data)] = points+label+score+image\n",
    "        except:\n",
    "            pass\n",
    "\n",
    "    data.to_csv('UR_Fall_data_labeled.csv',index=True,decimal=\",\")"
   ]
  },
  {
   "cell_type": "markdown",
   "metadata": {},
   "source": [
    "### Data filtered"
   ]
  },
  {
   "cell_type": "code",
   "execution_count": null,
   "metadata": {},
   "outputs": [],
   "source": [
    "data = pandas.read_csv('UR_Fall_data_labeled.csv')"
   ]
  },
  {
   "cell_type": "code",
   "execution_count": null,
   "metadata": {},
   "outputs": [],
   "source": [
    "data = data.sort_values(by=['Score'])"
   ]
  },
  {
   "cell_type": "code",
   "execution_count": null,
   "metadata": {},
   "outputs": [],
   "source": [
    "len(data)"
   ]
  },
  {
   "cell_type": "code",
   "execution_count": null,
   "metadata": {},
   "outputs": [],
   "source": [
    "data.drop_duplicates(subset =\"Image\", keep = 'first', inplace = True)"
   ]
  },
  {
   "cell_type": "code",
   "execution_count": null,
   "metadata": {},
   "outputs": [],
   "source": [
    "len(data)"
   ]
  },
  {
   "cell_type": "code",
   "execution_count": null,
   "metadata": {},
   "outputs": [],
   "source": [
    "data['Image'].to_csv('UR_Fall_images_no_repeated.csv',index=None,header=True)"
   ]
  },
  {
   "cell_type": "code",
   "execution_count": null,
   "metadata": {},
   "outputs": [],
   "source": [
    "data['Label'].to_csv('UR_Fall_labels_no_repeated.csv',index=None,header=True)"
   ]
  },
  {
   "cell_type": "code",
   "execution_count": null,
   "metadata": {},
   "outputs": [],
   "source": [
    "data.columns"
   ]
  },
  {
   "cell_type": "code",
   "execution_count": null,
   "metadata": {},
   "outputs": [],
   "source": [
    "data = data.drop(['Unnamed: 0'], axis=1).drop(['Label'], axis=1).drop(['Score'], axis=1).drop(['Image'], axis=1)"
   ]
  },
  {
   "cell_type": "code",
   "execution_count": null,
   "metadata": {},
   "outputs": [],
   "source": [
    "for col in data.columns:\n",
    "    data[col] = data[col].str.replace(',', '.').astype(float)"
   ]
  },
  {
   "cell_type": "code",
   "execution_count": null,
   "metadata": {},
   "outputs": [],
   "source": [
    "data.dtypes"
   ]
  },
  {
   "cell_type": "code",
   "execution_count": null,
   "metadata": {},
   "outputs": [],
   "source": [
    "data.to_csv('UR_Fall_features_no_repeated.csv',index=None,header=True)"
   ]
  },
  {
   "cell_type": "markdown",
   "metadata": {},
   "source": [
    "## 2. Classifier Execution"
   ]
  },
  {
   "cell_type": "markdown",
   "metadata": {},
   "source": [
    "### Libraries"
   ]
  },
  {
   "cell_type": "code",
   "execution_count": null,
   "metadata": {},
   "outputs": [],
   "source": [
    "#Main libraries\n",
    "import pandas as pd\n",
    "import numpy as np\n",
    "\n",
    "#Utilities\n",
    "from time import time\n",
    "from statistics import mean \n",
    "from statistics import stdev\n",
    "\n",
    "#Models\n",
    "from sklearn import svm\n",
    "from sklearn.ensemble import RandomForestClassifier as RndFC\n",
    "from sklearn.neural_network import MLPClassifier as ffp\n",
    "from sklearn.neighbors import KNeighborsClassifier as KNN\n",
    "from sklearn.ensemble import AdaBoostClassifier\n",
    "from sklearn.tree import DecisionTreeClassifier\n",
    "\n",
    "#Dataset Preparation\n",
    "from sklearn.model_selection import train_test_split\n",
    "\n",
    "#Metrics\n",
    "from sklearn.metrics import precision_recall_fscore_support as score\n",
    "from sklearn import metrics as met\n",
    "\n",
    "#Cross validation\n",
    "from sklearn.model_selection import KFold"
   ]
  },
  {
   "cell_type": "markdown",
   "metadata": {},
   "source": [
    "### Paramaters "
   ]
  },
  {
   "cell_type": "code",
   "execution_count": null,
   "metadata": {},
   "outputs": [],
   "source": [
    "train_percentage = 0.7\n",
    "test_percentage = 0.3"
   ]
  },
  {
   "cell_type": "code",
   "execution_count": null,
   "metadata": {},
   "outputs": [],
   "source": [
    "features_inputfile = 'UR_Fall_features_no_repeated.csv'\n",
    "labels_inputfile = 'UR_Fall_labels_no_repeated.csv'\n",
    "metrics_outfile = \"UR_Fall_metrics_no_repeated.csv\"\n",
    "confusion_matrix_outfile = \"_UR_Fall_Confusion_matrix_no_repeated.csv\""
   ]
  },
  {
   "cell_type": "markdown",
   "metadata": {},
   "source": [
    "### Functions"
   ]
  },
  {
   "cell_type": "code",
   "execution_count": null,
   "metadata": {},
   "outputs": [],
   "source": [
    "# To create a generic dataframe to save metrics\n",
    "def create_df(method, counter, total_time, metric, values):\n",
    "    df = pd.DataFrame({\n",
    "            'Method':[method],\n",
    "            'Counter':[counter],\n",
    "            'Time':[total_time],\n",
    "            'Metric':[metric]\n",
    "    })\n",
    "    for i in range (0,len(values)):\n",
    "        df[str(i)] = [values[i]]\n",
    "    \n",
    "    return df"
   ]
  },
  {
   "cell_type": "code",
   "execution_count": null,
   "metadata": {},
   "outputs": [],
   "source": [
    "# To change labels from multiple to bi-classifier\n",
    "def change_labels(l):\n",
    "    l.loc[(l.Label == 0.0),'Label'] = 1.0"
   ]
  },
  {
   "cell_type": "markdown",
   "metadata": {},
   "source": [
    "### Dataset Preparation"
   ]
  },
  {
   "cell_type": "code",
   "execution_count": null,
   "metadata": {},
   "outputs": [],
   "source": [
    "features = pd.read_csv(features_inputfile)"
   ]
  },
  {
   "cell_type": "code",
   "execution_count": null,
   "metadata": {},
   "outputs": [],
   "source": [
    "features.head(5)"
   ]
  },
  {
   "cell_type": "code",
   "execution_count": null,
   "metadata": {},
   "outputs": [],
   "source": [
    "labels = pd.read_csv(labels_inputfile)"
   ]
  },
  {
   "cell_type": "code",
   "execution_count": null,
   "metadata": {},
   "outputs": [],
   "source": [
    "labels.head(5)"
   ]
  },
  {
   "cell_type": "code",
   "execution_count": null,
   "metadata": {},
   "outputs": [],
   "source": [
    "print(labels['Label'].value_counts())"
   ]
  },
  {
   "cell_type": "code",
   "execution_count": null,
   "metadata": {},
   "outputs": [],
   "source": [
    "change_labels(labels)"
   ]
  },
  {
   "cell_type": "code",
   "execution_count": null,
   "metadata": {},
   "outputs": [],
   "source": [
    "print(labels['Label'].value_counts())"
   ]
  },
  {
   "cell_type": "code",
   "execution_count": null,
   "metadata": {},
   "outputs": [],
   "source": [
    "X_train, X_test, y_train, y_test = train_test_split(features, \n",
    "                                                    labels, \n",
    "                                                    train_size=train_percentage, \n",
    "                                                    test_size=test_percentage)"
   ]
  },
  {
   "cell_type": "code",
   "execution_count": null,
   "metadata": {},
   "outputs": [],
   "source": [
    "print (X_train.shape, y_train.shape)"
   ]
  },
  {
   "cell_type": "code",
   "execution_count": null,
   "metadata": {},
   "outputs": [],
   "source": [
    "print (X_test.shape, y_test.shape)"
   ]
  },
  {
   "cell_type": "markdown",
   "metadata": {},
   "source": [
    "### Classifier and Metrics"
   ]
  },
  {
   "cell_type": "code",
   "execution_count": null,
   "metadata": {},
   "outputs": [],
   "source": [
    "methods = ['RF','KNN','AdaBoost','MLP','SVM']"
   ]
  },
  {
   "cell_type": "code",
   "execution_count": null,
   "metadata": {},
   "outputs": [],
   "source": [
    "for method in methods:\n",
    "    counter = 0\n",
    "    \n",
    "    print('\\n\\nMethod: {}'.format(method))\n",
    "\n",
    "    if method == 'RF':\n",
    "        classifier = RndFC(n_estimators=100)\n",
    "    elif method == 'SVM':\n",
    "        classifier = svm.SVC(C=1000, gamma=0.0001)\n",
    "    elif method == 'MLP': \n",
    "        classifier = ffp()\n",
    "    elif method == 'KNN': \n",
    "        classifier = KNN()\n",
    "    else:\n",
    "        classifier = AdaBoostClassifier(DecisionTreeClassifier(max_depth=15, min_samples_split=20), n_estimators=10,\n",
    "                         learning_rate=1)\n",
    "    \n",
    "    #Train\n",
    "    start_time = time()\n",
    "    classifier.fit(X_train, np.array(y_train).flatten())\n",
    "    \n",
    "    #Test\n",
    "    estimates = classifier.predict(X_test)\n",
    "    print(\"Test time: %0.10f seconds.\" % (time() - start_time))\n",
    "    \n",
    "    #KPIs\n",
    "    precision, recall, fscore, support = score(y_test, estimates)\n",
    "    print('Precision: {}'.format(precision))\n",
    "    print('Recall: {}'.format(recall))\n",
    "    print('Fscore: {}'.format(fscore))\n",
    "    print('Support: {}'.format(support))\n",
    "    \n",
    "    print('Confusion Matrix')\n",
    "    print(pd.crosstab(np.array(y_test).flatten(), estimates))\n",
    "\n",
    "    #Save KPIs\n",
    "    if counter == 0:\n",
    "        create_df(method,counter,(time() - start_time),'Precision',precision).to_csv(metrics_outfile, mode='a',header=True,index=False,sep=';')\n",
    "    else:\n",
    "        create_df(method,counter,(time() - start_time),'Precision',precision).to_csv(metrics_outfile, mode='a',header=False,index=False,sep=';')        \n",
    "    create_df(method,counter,(time() - start_time),'Recall',recall).to_csv(metrics_outfile, mode='a',header=False,index=False,sep=';')\n",
    "    create_df(method,counter,(time() - start_time),'Fscore',fscore).to_csv(metrics_outfile, mode='a',header=False,index=False,sep=';')\n",
    "    create_df(method,counter,(time() - start_time),'Support',support).to_csv(metrics_outfile, mode='a',header=False,index=False,sep=';')\n",
    "    pd.crosstab(np.array(y_test).flatten(), estimates).to_csv(method+confusion_matrix_outfile, mode='a',header=True,index=True,sep=';')\n",
    "\n",
    "    #K-fold Cross-Validation\n",
    "    print('K-Fold Cross Validation')\n",
    "    start_time = time()\n",
    "    cv = KFold(n_splits=10, random_state=42, shuffle=True)\n",
    "    for train_index, test_index in cv.split(features):\n",
    "        start_time = time()\n",
    "        counter += 1\n",
    "        print('K-Fold - Counter: %d' % (counter))\n",
    "        \n",
    "        X_train_kf, X_test_kf, y_train_kf, y_test_kf = features.iloc[train_index], features.iloc[test_index], labels.iloc[train_index], labels.iloc[test_index]\n",
    "        classifier.fit(X_train_kf, y_train_kf)\n",
    "        estimates_kf = classifier.predict(X_test_kf)\n",
    "        \n",
    "        # K-Fold Metrics\n",
    "        precision_kf, recall_kf, fscore_kf, support_kf = score(y_test_kf, estimates_kf)\n",
    "        print('K-Fold - Precision: {}'.format(precision_kf))\n",
    "        print('K-Fold - Recall: {}'.format(recall_kf))\n",
    "        print('K-Fold - Fscore: {}'.format(fscore_kf))\n",
    "        print('K-Fold - Support: {}'.format(support_kf))\n",
    "        \n",
    "        #Save Metrics\n",
    "        create_df(method,counter,(time() - start_time),'Precision',precision_kf).to_csv(metrics_outfile, mode='a',header=False,index=False,sep=';')\n",
    "        create_df(method,counter,(time() - start_time),'Recall',recall_kf).to_csv(metrics_outfile, mode='a',header=False,index=False,sep=';')\n",
    "        create_df(method,counter,(time() - start_time),'Fscore',fscore_kf).to_csv(metrics_outfile, mode='a',header=False,index=False,sep=';')\n",
    "        create_df(method,counter,(time() - start_time),'Support',support_kf).to_csv(metrics_outfile, mode='a',header=False,index=False,sep=';')\n",
    "        pd.crosstab(np.array(y_test_kf).flatten(), estimates_kf).to_csv(method+confusion_matrix_outfile, mode='a',header=False,index=False,sep=';')\n"
   ]
  },
  {
   "cell_type": "markdown",
   "metadata": {},
   "source": [
    "### 2 files with metrics for each classifier will be found in root path"
   ]
  }
 ],
 "metadata": {
  "kernelspec": {
   "display_name": "Python 3",
   "language": "python",
   "name": "python3"
  },
  "language_info": {
   "codemirror_mode": {
    "name": "ipython",
    "version": 3
   },
   "file_extension": ".py",
   "mimetype": "text/x-python",
   "name": "python",
   "nbconvert_exporter": "python",
   "pygments_lexer": "ipython3",
   "version": "3.8.5"
  }
 },
 "nbformat": 4,
 "nbformat_minor": 2
}
