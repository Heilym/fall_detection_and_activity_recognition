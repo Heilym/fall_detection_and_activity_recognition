{
 "cells": [
  {
   "cell_type": "markdown",
   "metadata": {},
   "source": [
    "# UP-Fall Bi-Classifier"
   ]
  },
  {
   "cell_type": "markdown",
   "metadata": {},
   "source": [
    "### Libraries"
   ]
  },
  {
   "cell_type": "code",
   "execution_count": null,
   "metadata": {},
   "outputs": [],
   "source": [
    "#Main libraries\n",
    "import pandas as pd\n",
    "import numpy as np\n",
    "\n",
    "#Utilities\n",
    "from time import time\n",
    "from statistics import mean \n",
    "from statistics import stdev\n",
    "\n",
    "#Models\n",
    "from sklearn import svm\n",
    "from sklearn.ensemble import RandomForestClassifier as RndFC\n",
    "from sklearn.neural_network import MLPClassifier as ffp\n",
    "from sklearn.neighbors import KNeighborsClassifier as KNN\n",
    "from sklearn.ensemble import AdaBoostClassifier\n",
    "from sklearn.tree import DecisionTreeClassifier\n",
    "\n",
    "#Dataset Preparation\n",
    "from sklearn.model_selection import train_test_split\n",
    "\n",
    "#Metrics\n",
    "from sklearn.metrics import precision_recall_fscore_support as score\n",
    "from sklearn import metrics as met\n",
    "\n",
    "#Cross validation\n",
    "from sklearn.model_selection import KFold\n",
    "\n",
    "import warnings\n",
    "warnings.filterwarnings('ignore')"
   ]
  },
  {
   "cell_type": "markdown",
   "metadata": {},
   "source": [
    "### Parameters"
   ]
  },
  {
   "cell_type": "code",
   "execution_count": null,
   "metadata": {},
   "outputs": [],
   "source": [
    "train_percentage = 0.7\n",
    "test_percentage = 0.3"
   ]
  },
  {
   "cell_type": "code",
   "execution_count": null,
   "metadata": {},
   "outputs": [],
   "source": [
    "features_inputfile = '../Databases (preparation)/features_no_repeated.csv'\n",
    "labels_inputfile = '../Databases (preparation)/labels_no_repeated.csv'\n",
    "metrics_outfile = \"metrics_no_repeated.csv\"\n",
    "confusion_matrix_outfile = \"_confusion_matrix_no_repeated.csv\""
   ]
  },
  {
   "cell_type": "markdown",
   "metadata": {},
   "source": [
    "### Funciones"
   ]
  },
  {
   "cell_type": "code",
   "execution_count": null,
   "metadata": {},
   "outputs": [],
   "source": [
    "def create_df(method, counter, total_time, metric, values):\n",
    "    df = pd.DataFrame({\n",
    "            'Method':[method],\n",
    "            'Counter':[counter],\n",
    "            'Time':[total_time],\n",
    "            'Metric':[metric]\n",
    "    })\n",
    "    for i in range (0,len(values)):\n",
    "        df[str(i)] = [values[i]]\n",
    "    \n",
    "    return df"
   ]
  },
  {
   "cell_type": "code",
   "execution_count": null,
   "metadata": {},
   "outputs": [],
   "source": [
    "def change_labels(l):\n",
    "    #Fall\n",
    "    l.loc[(l.label == 1.0),'label'] = 'Fall'\n",
    "    l.loc[(l.label == 2.0),'label'] = 'Fall'\n",
    "    l.loc[(l.label == 3.0),'label'] = 'Fall'\n",
    "    l.loc[(l.label == 4.0),'label'] = 'Fall'\n",
    "    l.loc[(l.label == 5.0),'label'] = 'Fall'\n",
    "    l.loc[(l.label == 11.0),'label'] = 'Fall'\n",
    "    #Not Fall\n",
    "    l.loc[(l.label == 6.0),'label'] = 'Not Fall'\n",
    "    l.loc[(l.label == 7.0),'label'] = 'Not Fall'\n",
    "    l.loc[(l.label == 8.0),'label'] = 'Not Fall'\n",
    "    l.loc[(l.label == 9.0),'label'] = 'Not Fall'\n",
    "    l.loc[(l.label == 10.0),'label'] = 'Not Fall'\n",
    "    l.loc[(l.label == 20.0),'label'] = 'Not Fall'"
   ]
  },
  {
   "cell_type": "markdown",
   "metadata": {},
   "source": [
    "### Dataset Preparation"
   ]
  },
  {
   "cell_type": "code",
   "execution_count": null,
   "metadata": {},
   "outputs": [],
   "source": [
    "features = pd.read_csv(features_inputfile)"
   ]
  },
  {
   "cell_type": "code",
   "execution_count": null,
   "metadata": {},
   "outputs": [],
   "source": [
    "labels = pd.read_csv(labels_inputfile)"
   ]
  },
  {
   "cell_type": "code",
   "execution_count": null,
   "metadata": {},
   "outputs": [],
   "source": [
    "print(labels['label'].value_counts())"
   ]
  },
  {
   "cell_type": "code",
   "execution_count": null,
   "metadata": {},
   "outputs": [],
   "source": [
    "change_labels(labels)"
   ]
  },
  {
   "cell_type": "code",
   "execution_count": null,
   "metadata": {},
   "outputs": [],
   "source": [
    "print(labels['label'].value_counts())"
   ]
  },
  {
   "cell_type": "code",
   "execution_count": null,
   "metadata": {},
   "outputs": [],
   "source": [
    "X_train, X_test, y_train, y_test = train_test_split(features, \n",
    "                                                    labels, \n",
    "                                                    train_size=train_percentage, \n",
    "                                                    test_size=test_percentage)"
   ]
  },
  {
   "cell_type": "code",
   "execution_count": null,
   "metadata": {},
   "outputs": [],
   "source": [
    "print (X_train.shape, y_train.shape)"
   ]
  },
  {
   "cell_type": "code",
   "execution_count": null,
   "metadata": {},
   "outputs": [],
   "source": [
    "print (X_test.shape, y_test.shape)"
   ]
  },
  {
   "cell_type": "markdown",
   "metadata": {},
   "source": [
    "## Classifiers"
   ]
  },
  {
   "cell_type": "code",
   "execution_count": null,
   "metadata": {},
   "outputs": [],
   "source": [
    "methods = ['RF','KNN','AdaBoost','MLP','SVM']"
   ]
  },
  {
   "cell_type": "code",
   "execution_count": null,
   "metadata": {},
   "outputs": [],
   "source": [
    "for method in methods:\n",
    "    counter = 0\n",
    "    \n",
    "    print('\\n\\nMethod: {}'.format(method))\n",
    "\n",
    "    if method == 'RF':\n",
    "        classifier = RndFC(n_estimators=100)\n",
    "    elif method == 'SVM':\n",
    "        classifier = svm.SVC(C=1000, gamma=0.0001)\n",
    "    elif method == 'MLP': \n",
    "        classifier = ffp()\n",
    "    elif method == 'KNN': \n",
    "        classifier = KNN()\n",
    "    else:\n",
    "        classifier = AdaBoostClassifier(DecisionTreeClassifier(max_depth=15, min_samples_split=20), n_estimators=10,\n",
    "                         learning_rate=1)\n",
    "    \n",
    "    #Train\n",
    "    start_time = time()\n",
    "    classifier.fit(X_train, np.array(y_train).flatten())\n",
    "    \n",
    "    #Test\n",
    "    estimates = classifier.predict(X_test)\n",
    "    print(\"Test time: %0.10f seconds.\" % (time() - start_time))\n",
    "    \n",
    "    #KPIs\n",
    "    precision, recall, fscore, support = score(y_test, estimates)\n",
    "    print('Precision: {}'.format(precision))\n",
    "    print('Recall: {}'.format(recall))\n",
    "    print('Fscore: {}'.format(fscore))\n",
    "    print('Support: {}'.format(support))\n",
    "    \n",
    "    print('Confusion Matrix')\n",
    "    print(pd.crosstab(np.array(y_test).flatten(), estimates))\n",
    "\n",
    "    #Save KPIs\n",
    "    create_df(method,counter,(time() - start_time),'Precision',precision).to_csv(metrics_outfile, mode='a',header='False',index=False,sep=';')\n",
    "    create_df(method,counter,(time() - start_time),'Recall',recall).to_csv(metrics_outfile, mode='a',header='False',index=False,sep=';')\n",
    "    create_df(method,counter,(time() - start_time),'Fscore',fscore).to_csv(metrics_outfile, mode='a',header='False',index=False,sep=';')\n",
    "    create_df(method,counter,(time() - start_time),'Support',support).to_csv(metrics_outfile, mode='a',header='False',index=False,sep=';')\n",
    "    pd.crosstab(np.array(y_test).flatten(), estimates).to_csv(method+confusion_matrix_outfile, mode='a',header='True',index=True,sep=';')\n",
    "\n",
    "    #K-fold Cross-Validation\n",
    "    print('K-Fold Cross Validation')\n",
    "    start_time = time()\n",
    "    cv = KFold(n_splits=10, random_state=42, shuffle=True)\n",
    "    for train_index, test_index in cv.split(features):\n",
    "        start_time = time()\n",
    "        counter += 1\n",
    "        print('K-Fold - Counter: %d' % (counter))\n",
    "        \n",
    "        X_train_kf, X_test_kf, y_train_kf, y_test_kf = features.iloc[train_index], features.iloc[test_index], labels.iloc[train_index], labels.iloc[test_index]\n",
    "        classifier.fit(X_train_kf, y_train_kf)\n",
    "        estimates_kf = classifier.predict(X_test_kf)\n",
    "        \n",
    "        # K-Fold KPI\n",
    "        precision_kf, recall_kf, fscore_kf, support_kf = score(y_test_kf, estimates_kf)\n",
    "        print('K-Fold - Precision: {}'.format(precision_kf))\n",
    "        print('K-Fold - Recall: {}'.format(recall_kf))\n",
    "        print('K-Fold - Fscore: {}'.format(fscore_kf))\n",
    "        print('K-Fold - Support: {}'.format(support_kf))\n",
    "        \n",
    "        #Save KPIs\n",
    "        create_df(method,counter,(time() - start_time),'Precision',precision_kf).to_csv(metrics_outfile, mode='a',header='False',index=False,sep=';')\n",
    "        create_df(method,counter,(time() - start_time),'Recall',recall_kf).to_csv(metrics_outfile, mode='a',header='False',index=False,sep=';')\n",
    "        create_df(method,counter,(time() - start_time),'Fscore',fscore_kf).to_csv(metrics_outfile, mode='a',header='False',index=False,sep=';')\n",
    "        create_df(method,counter,(time() - start_time),'Support',support_kf).to_csv(metrics_outfile, mode='a',header='False',index=False,sep=';')\n",
    "        pd.crosstab(np.array(y_test_kf).flatten(), estimates_kf).to_csv(method+confusion_matrix_outfile, mode='a',header='False',index=False,sep=';')\n",
    "\n",
    "    "
   ]
  }
 ],
 "metadata": {
  "kernelspec": {
   "display_name": "Python 3",
   "language": "python",
   "name": "python3"
  },
  "language_info": {
   "codemirror_mode": {
    "name": "ipython",
    "version": 3
   },
   "file_extension": ".py",
   "mimetype": "text/x-python",
   "name": "python",
   "nbconvert_exporter": "python",
   "pygments_lexer": "ipython3",
   "version": "3.8.5"
  }
 },
 "nbformat": 4,
 "nbformat_minor": 2
}
