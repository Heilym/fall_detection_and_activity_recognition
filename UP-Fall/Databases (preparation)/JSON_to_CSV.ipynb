{
 "cells": [
  {
   "cell_type": "markdown",
   "metadata": {},
   "source": [
    "# Json to CSV (Alphapose conversion)"
   ]
  },
  {
   "cell_type": "markdown",
   "metadata": {},
   "source": [
    "### Libraries"
   ]
  },
  {
   "cell_type": "code",
   "execution_count": 1,
   "metadata": {},
   "outputs": [],
   "source": [
    "#Main libraries\n",
    "import os\n",
    "import json\n",
    "import numpy as np\n",
    "import pandas as pd"
   ]
  },
  {
   "cell_type": "markdown",
   "metadata": {},
   "source": [
    "### Parameters"
   ]
  },
  {
   "cell_type": "code",
   "execution_count": 3,
   "metadata": {},
   "outputs": [],
   "source": [
    "# From Alphapose output\n",
    "input_json_filename = \"alphapose-results.json\"\n",
    "\n",
    "# From https://sites.google.com/up.edu.mx/har-up/ Complete Downloads -> Data Set\n",
    "input_csv_filename = \"CompleteDataSet.csv\"\n",
    "\n",
    "# Output file\n",
    "output_filename = \"alphapose_output.csv\""
   ]
  },
  {
   "cell_type": "code",
   "execution_count": 4,
   "metadata": {},
   "outputs": [],
   "source": [
    "dict_columns = ['X_nose','Y_nose','confidence_nose',\n",
    "           'X_Leye','Y_Leye','confidence_Leye',\n",
    "           'X_Reye','Y_Reye','confidence_Reye',\n",
    "           'X_Lear','Y_Lear','confidence_Lear',\n",
    "           'X_Rear','Y_Rear','confidence_Rear',\n",
    "           'X_LShoulder','Y_LShoulder','confidence_LShoulder',\n",
    "           'X_RShoulder','Y_RShoulder','confidence_RShoulder',\n",
    "           'X_LElbow','Y_LElbow','confidence_LElbow',\n",
    "           'X_RElbow','Y_RElbow','confidence_RElbow',\n",
    "           'X_LWrist','Y_LWrist','confidence_LWrist',\n",
    "           'X_RWrist','Y_RWrist','confidence_RWrist',\n",
    "           'X_LHip','Y_LHip','confidence_LHip',\n",
    "           'X_RHip','Y_RHip','confidence_RHip',\n",
    "           'X_LKnee','Y_LKnee','confidence_LKnee',\n",
    "           'X_RKnee','Y_RKnee','confidence_RKnee',\n",
    "           'X_LAnkle','Y_LAnkle','confidence_LAnkle',\n",
    "           'X_RAnkle','Y_RAnkle','confidence_RAnkle',\n",
    "           'Label','Score','Image'\n",
    "           ]"
   ]
  },
  {
   "cell_type": "markdown",
   "metadata": {},
   "source": [
    "## DataSet Preparation"
   ]
  },
  {
   "cell_type": "code",
   "execution_count": 5,
   "metadata": {},
   "outputs": [],
   "source": [
    "df_tmp = pd.read_csv(input_csv_filename,skiprows=2,header=None)"
   ]
  },
  {
   "cell_type": "code",
   "execution_count": 6,
   "metadata": {},
   "outputs": [],
   "source": [
    "tags = df_tmp[46].to_numpy()"
   ]
  },
  {
   "cell_type": "code",
   "execution_count": 7,
   "metadata": {},
   "outputs": [],
   "source": [
    "images = df_tmp[0].apply(lambda x: \"{}.png\".format(x.replace(\":\",\"_\"))).to_numpy()"
   ]
  },
  {
   "cell_type": "markdown",
   "metadata": {},
   "source": [
    "#### Read files from JSON and generate CSV output file"
   ]
  },
  {
   "cell_type": "code",
   "execution_count": 8,
   "metadata": {},
   "outputs": [],
   "source": [
    "d = None\n",
    "with open(input_json_filename) as f:\n",
    "    d = json.load(f)\n",
    "    data = pd.DataFrame(columns = dict_columns)\n",
    "    for i in range(0,len(d)):\n",
    "        points = d[i]['keypoints']\n",
    "        image = [d[i]['image_id']]\n",
    "        score = [d[i]['score']]\n",
    "        label = [0]\n",
    "        for i in range(0,len(images)):\n",
    "            if image[0] == images[i]:\n",
    "                label = [tags[i]]\n",
    "                break\n",
    "        data.loc[len(data)] = points+label+score+image\n",
    "    data.to_csv(output_filename,index=True)"
   ]
  },
  {
   "cell_type": "code",
   "execution_count": null,
   "metadata": {},
   "outputs": [],
   "source": []
  }
 ],
 "metadata": {
  "kernelspec": {
   "display_name": "Python 3",
   "language": "python",
   "name": "python3"
  },
  "language_info": {
   "codemirror_mode": {
    "name": "ipython",
    "version": 3
   },
   "file_extension": ".py",
   "mimetype": "text/x-python",
   "name": "python",
   "nbconvert_exporter": "python",
   "pygments_lexer": "ipython3",
   "version": "3.8.5"
  }
 },
 "nbformat": 4,
 "nbformat_minor": 2
}
