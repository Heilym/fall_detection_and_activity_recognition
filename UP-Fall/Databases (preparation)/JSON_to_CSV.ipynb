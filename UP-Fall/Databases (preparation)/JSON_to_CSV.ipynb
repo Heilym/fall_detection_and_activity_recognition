{
 "cells": [
  {
   "cell_type": "markdown",
   "metadata": {},
   "source": [
    "# Json to CSV (Alphapose conversion)"
   ]
  },
  {
   "cell_type": "markdown",
   "metadata": {},
   "source": [
    "### Libraries"
   ]
  },
  {
   "cell_type": "code",
   "execution_count": null,
   "metadata": {},
   "outputs": [],
   "source": [
    "#Main libraries\n",
    "import os\n",
    "import json\n",
    "import numpy as np\n",
    "import pandas as pd"
   ]
  },
  {
   "cell_type": "markdown",
   "metadata": {},
   "source": [
    "### Parameters"
   ]
  },
  {
   "cell_type": "code",
   "execution_count": null,
   "metadata": {},
   "outputs": [],
   "source": [
    "input_filename = \"alphapose-results.json\"\n",
    "output_filename = \"alphapose_output.csv\""
   ]
  },
  {
   "cell_type": "code",
   "execution_count": null,
   "metadata": {},
   "outputs": [],
   "source": [
    "dict_columns = ['X_nose','Y_nose','confidence_nose',\n",
    "           'X_Leye','Y_Leye','confidence_Leye',\n",
    "           'X_Reye','Y_Reye','confidence_Reye',\n",
    "           'X_Lear','Y_Lear','confidence_Lear',\n",
    "           'X_Rear','Y_Rear','confidence_Rear',\n",
    "           'X_LShoulder','Y_LShoulder','confidence_LShoulder',\n",
    "           'X_RShoulder','Y_RShoulder','confidence_RShoulder',\n",
    "           'X_LElbow','Y_LElbow','confidence_LElbow',\n",
    "           'X_RElbow','Y_RElbow','confidence_RElbow',\n",
    "           'X_LWrist','Y_LWrist','confidence_LWrist',\n",
    "           'X_RWrist','Y_RWrist','confidence_RWrist',\n",
    "           'X_LHip','Y_LHip','confidence_LHip',\n",
    "           'X_RHip','Y_RHip','confidence_RHip',\n",
    "           'X_LKnee','Y_LKnee','confidence_LKnee',\n",
    "           'X_RKnee','Y_RKnee','confidence_RKnee',\n",
    "           'X_LAnkle','Y_LAnkle','confidence_LAnkle',\n",
    "           'X_RAnkle','Y_RAnkle','confidence_RAnkle',\n",
    "           'Label','Image'\n",
    "           ]"
   ]
  },
  {
   "cell_type": "code",
   "execution_count": null,
   "metadata": {},
   "outputs": [],
   "source": [
    "feature_vector_columns = ['X_nose','Y_nose','confidence_nose',\n",
    "           'X_Leye','Y_Leye','confidence_Leye',\n",
    "           'X_Reye','Y_Reye','confidence_Reye',\n",
    "           'X_Lear','Y_Lear','confidence_Lear',\n",
    "           'X_Rear','Y_Rear','confidence_Rear',\n",
    "           'X_LShoulder','Y_LShoulder','confidence_LShoulder',\n",
    "           'X_RShoulder','Y_RShoulder','confidence_RShoulder',\n",
    "           'X_LElbow','Y_LElbow','confidence_LElbow',\n",
    "           'X_RElbow','Y_RElbow','confidence_RElbow',\n",
    "           'X_LWrist','Y_LWrist','confidence_LWrist',\n",
    "           'X_RWrist','Y_RWrist','confidence_RWrist',\n",
    "           'X_LHip','Y_LHip','confidence_LHip',\n",
    "           'X_RHip','Y_RHip','confidence_RHip',\n",
    "           'X_LKnee','Y_LKnee','confidence_LKnee',\n",
    "           'X_RKnee','Y_RKnee','confidence_RKnee',\n",
    "           'X_LAnkle','Y_LAnkle','confidence_LAnkle',\n",
    "           'X_RAnkle','Y_RAnkle','confidence_RAnkle'\n",
    "           ]"
   ]
  },
  {
   "cell_type": "code",
   "execution_count": null,
   "metadata": {},
   "outputs": [],
   "source": [
    "label_vector_columns = ['label']"
   ]
  },
  {
   "cell_type": "code",
   "execution_count": null,
   "metadata": {},
   "outputs": [],
   "source": [
    "image_vector_columns = ['image']"
   ]
  },
  {
   "cell_type": "markdown",
   "metadata": {},
   "source": [
    "## DataSet Preparation"
   ]
  },
  {
   "cell_type": "markdown",
   "metadata": {},
   "source": [
    "#### Read files from JSON and generate CSV output file"
   ]
  },
  {
   "cell_type": "code",
   "execution_count": null,
   "metadata": {},
   "outputs": [],
   "source": [
    "d = None\n",
    "with open(input_filename) as f:\n",
    "    d = json.load(f)\n",
    "    data = pd.DataFrame(columns = dict_columns)\n",
    "    for i in range(0,len(d)):\n",
    "        points = d[i]['keypoints']\n",
    "        label = [d[i]['label']]\n",
    "        image = [d[i]['image_id']]\n",
    "        data.loc[len(data)] = points+label+image\n",
    "    data.to_csv(output_filename,index=True,decimal=\",\")"
   ]
  }
 ],
 "metadata": {
  "kernelspec": {
   "display_name": "Python 3",
   "language": "python",
   "name": "python3"
  },
  "language_info": {
   "codemirror_mode": {
    "name": "ipython",
    "version": 3
   },
   "file_extension": ".py",
   "mimetype": "text/x-python",
   "name": "python",
   "nbconvert_exporter": "python",
   "pygments_lexer": "ipython3",
   "version": "3.8.5"
  }
 },
 "nbformat": 4,
 "nbformat_minor": 2
}
