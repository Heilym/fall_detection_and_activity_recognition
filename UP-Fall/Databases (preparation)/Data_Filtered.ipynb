{
 "cells": [
  {
   "cell_type": "markdown",
   "metadata": {},
   "source": [
    "# Data Filtered"
   ]
  },
  {
   "cell_type": "markdown",
   "metadata": {},
   "source": [
    "### Libraries"
   ]
  },
  {
   "cell_type": "code",
   "execution_count": 1,
   "metadata": {},
   "outputs": [],
   "source": [
    "import pandas as pd"
   ]
  },
  {
   "cell_type": "markdown",
   "metadata": {},
   "source": [
    "### Read input file"
   ]
  },
  {
   "cell_type": "code",
   "execution_count": 2,
   "metadata": {},
   "outputs": [],
   "source": [
    "df = pd.read_csv('alphapose_output.csv', delimiter=\",\", decimal=\".\")"
   ]
  },
  {
   "cell_type": "code",
   "execution_count": 3,
   "metadata": {},
   "outputs": [
    {
     "data": {
      "text/html": [
       "<div>\n",
       "<style scoped>\n",
       "    .dataframe tbody tr th:only-of-type {\n",
       "        vertical-align: middle;\n",
       "    }\n",
       "\n",
       "    .dataframe tbody tr th {\n",
       "        vertical-align: top;\n",
       "    }\n",
       "\n",
       "    .dataframe thead th {\n",
       "        text-align: right;\n",
       "    }\n",
       "</style>\n",
       "<table border=\"1\" class=\"dataframe\">\n",
       "  <thead>\n",
       "    <tr style=\"text-align: right;\">\n",
       "      <th></th>\n",
       "      <th>Unnamed: 0</th>\n",
       "      <th>X_nose</th>\n",
       "      <th>Y_nose</th>\n",
       "      <th>confidence_nose</th>\n",
       "      <th>X_Leye</th>\n",
       "      <th>Y_Leye</th>\n",
       "      <th>confidence_Leye</th>\n",
       "      <th>X_Reye</th>\n",
       "      <th>Y_Reye</th>\n",
       "      <th>confidence_Reye</th>\n",
       "      <th>...</th>\n",
       "      <th>confidence_RKnee</th>\n",
       "      <th>X_LAnkle</th>\n",
       "      <th>Y_LAnkle</th>\n",
       "      <th>confidence_LAnkle</th>\n",
       "      <th>X_RAnkle</th>\n",
       "      <th>Y_RAnkle</th>\n",
       "      <th>confidence_RAnkle</th>\n",
       "      <th>Label</th>\n",
       "      <th>Score</th>\n",
       "      <th>Image</th>\n",
       "    </tr>\n",
       "  </thead>\n",
       "  <tbody>\n",
       "    <tr>\n",
       "      <th>0</th>\n",
       "      <td>0</td>\n",
       "      <td>637.480164</td>\n",
       "      <td>133.181793</td>\n",
       "      <td>0.003566</td>\n",
       "      <td>627.440552</td>\n",
       "      <td>444.410339</td>\n",
       "      <td>0.006398</td>\n",
       "      <td>614.054382</td>\n",
       "      <td>103.062897</td>\n",
       "      <td>0.008102</td>\n",
       "      <td>...</td>\n",
       "      <td>0.850786</td>\n",
       "      <td>600.668213</td>\n",
       "      <td>474.529236</td>\n",
       "      <td>0.539993</td>\n",
       "      <td>630.787048</td>\n",
       "      <td>447.756866</td>\n",
       "      <td>0.770267</td>\n",
       "      <td>7</td>\n",
       "      <td>2.527475</td>\n",
       "      <td>2018-07-04T12_04_19.294027.png</td>\n",
       "    </tr>\n",
       "    <tr>\n",
       "      <th>1</th>\n",
       "      <td>1</td>\n",
       "      <td>646.095459</td>\n",
       "      <td>141.451126</td>\n",
       "      <td>0.003781</td>\n",
       "      <td>620.421570</td>\n",
       "      <td>456.872803</td>\n",
       "      <td>0.003995</td>\n",
       "      <td>613.086243</td>\n",
       "      <td>112.109566</td>\n",
       "      <td>0.006552</td>\n",
       "      <td>...</td>\n",
       "      <td>0.897769</td>\n",
       "      <td>598.415466</td>\n",
       "      <td>449.537415</td>\n",
       "      <td>0.621229</td>\n",
       "      <td>631.424683</td>\n",
       "      <td>453.205139</td>\n",
       "      <td>0.794919</td>\n",
       "      <td>7</td>\n",
       "      <td>2.634180</td>\n",
       "      <td>2018-07-04T12_04_17.738369.png</td>\n",
       "    </tr>\n",
       "    <tr>\n",
       "      <th>2</th>\n",
       "      <td>2</td>\n",
       "      <td>645.779724</td>\n",
       "      <td>141.093384</td>\n",
       "      <td>0.004000</td>\n",
       "      <td>621.908752</td>\n",
       "      <td>444.595734</td>\n",
       "      <td>0.004497</td>\n",
       "      <td>621.908752</td>\n",
       "      <td>120.632538</td>\n",
       "      <td>0.008470</td>\n",
       "      <td>...</td>\n",
       "      <td>0.838173</td>\n",
       "      <td>598.037781</td>\n",
       "      <td>444.595734</td>\n",
       "      <td>0.676443</td>\n",
       "      <td>632.139160</td>\n",
       "      <td>451.416016</td>\n",
       "      <td>0.814083</td>\n",
       "      <td>7</td>\n",
       "      <td>2.516571</td>\n",
       "      <td>2018-07-04T12_04_17.738369.png</td>\n",
       "    </tr>\n",
       "    <tr>\n",
       "      <th>3</th>\n",
       "      <td>3</td>\n",
       "      <td>612.273987</td>\n",
       "      <td>129.293091</td>\n",
       "      <td>0.003421</td>\n",
       "      <td>622.595276</td>\n",
       "      <td>445.813171</td>\n",
       "      <td>0.005005</td>\n",
       "      <td>626.035706</td>\n",
       "      <td>118.971794</td>\n",
       "      <td>0.008990</td>\n",
       "      <td>...</td>\n",
       "      <td>0.859478</td>\n",
       "      <td>605.393127</td>\n",
       "      <td>435.491821</td>\n",
       "      <td>0.635374</td>\n",
       "      <td>636.356995</td>\n",
       "      <td>452.694031</td>\n",
       "      <td>0.760210</td>\n",
       "      <td>7</td>\n",
       "      <td>2.562690</td>\n",
       "      <td>2018-07-04T12_04_18.311401.png</td>\n",
       "    </tr>\n",
       "    <tr>\n",
       "      <th>4</th>\n",
       "      <td>4</td>\n",
       "      <td>659.347839</td>\n",
       "      <td>150.186890</td>\n",
       "      <td>0.002712</td>\n",
       "      <td>679.035706</td>\n",
       "      <td>324.095917</td>\n",
       "      <td>0.004578</td>\n",
       "      <td>613.409668</td>\n",
       "      <td>419.253662</td>\n",
       "      <td>0.005192</td>\n",
       "      <td>...</td>\n",
       "      <td>0.830758</td>\n",
       "      <td>613.409668</td>\n",
       "      <td>435.660187</td>\n",
       "      <td>0.652161</td>\n",
       "      <td>642.941345</td>\n",
       "      <td>458.629303</td>\n",
       "      <td>0.758141</td>\n",
       "      <td>7</td>\n",
       "      <td>2.553109</td>\n",
       "      <td>2018-07-04T12_04_18.745060.png</td>\n",
       "    </tr>\n",
       "  </tbody>\n",
       "</table>\n",
       "<p>5 rows × 55 columns</p>\n",
       "</div>"
      ],
      "text/plain": [
       "   Unnamed: 0      X_nose      Y_nose  confidence_nose      X_Leye  \\\n",
       "0           0  637.480164  133.181793         0.003566  627.440552   \n",
       "1           1  646.095459  141.451126         0.003781  620.421570   \n",
       "2           2  645.779724  141.093384         0.004000  621.908752   \n",
       "3           3  612.273987  129.293091         0.003421  622.595276   \n",
       "4           4  659.347839  150.186890         0.002712  679.035706   \n",
       "\n",
       "       Y_Leye  confidence_Leye      X_Reye      Y_Reye  confidence_Reye  ...  \\\n",
       "0  444.410339         0.006398  614.054382  103.062897         0.008102  ...   \n",
       "1  456.872803         0.003995  613.086243  112.109566         0.006552  ...   \n",
       "2  444.595734         0.004497  621.908752  120.632538         0.008470  ...   \n",
       "3  445.813171         0.005005  626.035706  118.971794         0.008990  ...   \n",
       "4  324.095917         0.004578  613.409668  419.253662         0.005192  ...   \n",
       "\n",
       "   confidence_RKnee    X_LAnkle    Y_LAnkle  confidence_LAnkle    X_RAnkle  \\\n",
       "0          0.850786  600.668213  474.529236           0.539993  630.787048   \n",
       "1          0.897769  598.415466  449.537415           0.621229  631.424683   \n",
       "2          0.838173  598.037781  444.595734           0.676443  632.139160   \n",
       "3          0.859478  605.393127  435.491821           0.635374  636.356995   \n",
       "4          0.830758  613.409668  435.660187           0.652161  642.941345   \n",
       "\n",
       "     Y_RAnkle  confidence_RAnkle  Label     Score  \\\n",
       "0  447.756866           0.770267      7  2.527475   \n",
       "1  453.205139           0.794919      7  2.634180   \n",
       "2  451.416016           0.814083      7  2.516571   \n",
       "3  452.694031           0.760210      7  2.562690   \n",
       "4  458.629303           0.758141      7  2.553109   \n",
       "\n",
       "                            Image  \n",
       "0  2018-07-04T12_04_19.294027.png  \n",
       "1  2018-07-04T12_04_17.738369.png  \n",
       "2  2018-07-04T12_04_17.738369.png  \n",
       "3  2018-07-04T12_04_18.311401.png  \n",
       "4  2018-07-04T12_04_18.745060.png  \n",
       "\n",
       "[5 rows x 55 columns]"
      ]
     },
     "execution_count": 3,
     "metadata": {},
     "output_type": "execute_result"
    }
   ],
   "source": [
    "df.head()"
   ]
  },
  {
   "cell_type": "markdown",
   "metadata": {},
   "source": [
    "### The result with the highest confidence per image is considered"
   ]
  },
  {
   "cell_type": "code",
   "execution_count": 4,
   "metadata": {},
   "outputs": [
    {
     "data": {
      "text/html": [
       "<div>\n",
       "<style scoped>\n",
       "    .dataframe tbody tr th:only-of-type {\n",
       "        vertical-align: middle;\n",
       "    }\n",
       "\n",
       "    .dataframe tbody tr th {\n",
       "        vertical-align: top;\n",
       "    }\n",
       "\n",
       "    .dataframe thead th {\n",
       "        text-align: right;\n",
       "    }\n",
       "</style>\n",
       "<table border=\"1\" class=\"dataframe\">\n",
       "  <thead>\n",
       "    <tr style=\"text-align: right;\">\n",
       "      <th></th>\n",
       "      <th>Unnamed: 0</th>\n",
       "      <th>X_nose</th>\n",
       "      <th>Y_nose</th>\n",
       "      <th>confidence_nose</th>\n",
       "      <th>X_Leye</th>\n",
       "      <th>Y_Leye</th>\n",
       "      <th>confidence_Leye</th>\n",
       "      <th>X_Reye</th>\n",
       "      <th>Y_Reye</th>\n",
       "      <th>confidence_Reye</th>\n",
       "      <th>...</th>\n",
       "      <th>confidence_RKnee</th>\n",
       "      <th>X_LAnkle</th>\n",
       "      <th>Y_LAnkle</th>\n",
       "      <th>confidence_LAnkle</th>\n",
       "      <th>X_RAnkle</th>\n",
       "      <th>Y_RAnkle</th>\n",
       "      <th>confidence_RAnkle</th>\n",
       "      <th>Label</th>\n",
       "      <th>Score</th>\n",
       "      <th>Image</th>\n",
       "    </tr>\n",
       "  </thead>\n",
       "  <tbody>\n",
       "    <tr>\n",
       "      <th>2</th>\n",
       "      <td>2</td>\n",
       "      <td>645.779724</td>\n",
       "      <td>141.093384</td>\n",
       "      <td>0.004000</td>\n",
       "      <td>621.908752</td>\n",
       "      <td>444.595734</td>\n",
       "      <td>0.004497</td>\n",
       "      <td>621.908752</td>\n",
       "      <td>120.632538</td>\n",
       "      <td>0.008470</td>\n",
       "      <td>...</td>\n",
       "      <td>0.838173</td>\n",
       "      <td>598.037781</td>\n",
       "      <td>444.595734</td>\n",
       "      <td>0.676443</td>\n",
       "      <td>632.139160</td>\n",
       "      <td>451.416016</td>\n",
       "      <td>0.814083</td>\n",
       "      <td>7</td>\n",
       "      <td>2.516571</td>\n",
       "      <td>2018-07-04T12_04_17.738369.png</td>\n",
       "    </tr>\n",
       "    <tr>\n",
       "      <th>0</th>\n",
       "      <td>0</td>\n",
       "      <td>637.480164</td>\n",
       "      <td>133.181793</td>\n",
       "      <td>0.003566</td>\n",
       "      <td>627.440552</td>\n",
       "      <td>444.410339</td>\n",
       "      <td>0.006398</td>\n",
       "      <td>614.054382</td>\n",
       "      <td>103.062897</td>\n",
       "      <td>0.008102</td>\n",
       "      <td>...</td>\n",
       "      <td>0.850786</td>\n",
       "      <td>600.668213</td>\n",
       "      <td>474.529236</td>\n",
       "      <td>0.539993</td>\n",
       "      <td>630.787048</td>\n",
       "      <td>447.756866</td>\n",
       "      <td>0.770267</td>\n",
       "      <td>7</td>\n",
       "      <td>2.527475</td>\n",
       "      <td>2018-07-04T12_04_19.294027.png</td>\n",
       "    </tr>\n",
       "    <tr>\n",
       "      <th>4</th>\n",
       "      <td>4</td>\n",
       "      <td>659.347839</td>\n",
       "      <td>150.186890</td>\n",
       "      <td>0.002712</td>\n",
       "      <td>679.035706</td>\n",
       "      <td>324.095917</td>\n",
       "      <td>0.004578</td>\n",
       "      <td>613.409668</td>\n",
       "      <td>419.253662</td>\n",
       "      <td>0.005192</td>\n",
       "      <td>...</td>\n",
       "      <td>0.830758</td>\n",
       "      <td>613.409668</td>\n",
       "      <td>435.660187</td>\n",
       "      <td>0.652161</td>\n",
       "      <td>642.941345</td>\n",
       "      <td>458.629303</td>\n",
       "      <td>0.758141</td>\n",
       "      <td>7</td>\n",
       "      <td>2.553109</td>\n",
       "      <td>2018-07-04T12_04_18.745060.png</td>\n",
       "    </tr>\n",
       "    <tr>\n",
       "      <th>3</th>\n",
       "      <td>3</td>\n",
       "      <td>612.273987</td>\n",
       "      <td>129.293091</td>\n",
       "      <td>0.003421</td>\n",
       "      <td>622.595276</td>\n",
       "      <td>445.813171</td>\n",
       "      <td>0.005005</td>\n",
       "      <td>626.035706</td>\n",
       "      <td>118.971794</td>\n",
       "      <td>0.008990</td>\n",
       "      <td>...</td>\n",
       "      <td>0.859478</td>\n",
       "      <td>605.393127</td>\n",
       "      <td>435.491821</td>\n",
       "      <td>0.635374</td>\n",
       "      <td>636.356995</td>\n",
       "      <td>452.694031</td>\n",
       "      <td>0.760210</td>\n",
       "      <td>7</td>\n",
       "      <td>2.562690</td>\n",
       "      <td>2018-07-04T12_04_18.311401.png</td>\n",
       "    </tr>\n",
       "    <tr>\n",
       "      <th>1</th>\n",
       "      <td>1</td>\n",
       "      <td>646.095459</td>\n",
       "      <td>141.451126</td>\n",
       "      <td>0.003781</td>\n",
       "      <td>620.421570</td>\n",
       "      <td>456.872803</td>\n",
       "      <td>0.003995</td>\n",
       "      <td>613.086243</td>\n",
       "      <td>112.109566</td>\n",
       "      <td>0.006552</td>\n",
       "      <td>...</td>\n",
       "      <td>0.897769</td>\n",
       "      <td>598.415466</td>\n",
       "      <td>449.537415</td>\n",
       "      <td>0.621229</td>\n",
       "      <td>631.424683</td>\n",
       "      <td>453.205139</td>\n",
       "      <td>0.794919</td>\n",
       "      <td>7</td>\n",
       "      <td>2.634180</td>\n",
       "      <td>2018-07-04T12_04_17.738369.png</td>\n",
       "    </tr>\n",
       "  </tbody>\n",
       "</table>\n",
       "<p>5 rows × 55 columns</p>\n",
       "</div>"
      ],
      "text/plain": [
       "   Unnamed: 0      X_nose      Y_nose  confidence_nose      X_Leye  \\\n",
       "2           2  645.779724  141.093384         0.004000  621.908752   \n",
       "0           0  637.480164  133.181793         0.003566  627.440552   \n",
       "4           4  659.347839  150.186890         0.002712  679.035706   \n",
       "3           3  612.273987  129.293091         0.003421  622.595276   \n",
       "1           1  646.095459  141.451126         0.003781  620.421570   \n",
       "\n",
       "       Y_Leye  confidence_Leye      X_Reye      Y_Reye  confidence_Reye  ...  \\\n",
       "2  444.595734         0.004497  621.908752  120.632538         0.008470  ...   \n",
       "0  444.410339         0.006398  614.054382  103.062897         0.008102  ...   \n",
       "4  324.095917         0.004578  613.409668  419.253662         0.005192  ...   \n",
       "3  445.813171         0.005005  626.035706  118.971794         0.008990  ...   \n",
       "1  456.872803         0.003995  613.086243  112.109566         0.006552  ...   \n",
       "\n",
       "   confidence_RKnee    X_LAnkle    Y_LAnkle  confidence_LAnkle    X_RAnkle  \\\n",
       "2          0.838173  598.037781  444.595734           0.676443  632.139160   \n",
       "0          0.850786  600.668213  474.529236           0.539993  630.787048   \n",
       "4          0.830758  613.409668  435.660187           0.652161  642.941345   \n",
       "3          0.859478  605.393127  435.491821           0.635374  636.356995   \n",
       "1          0.897769  598.415466  449.537415           0.621229  631.424683   \n",
       "\n",
       "     Y_RAnkle  confidence_RAnkle  Label     Score  \\\n",
       "2  451.416016           0.814083      7  2.516571   \n",
       "0  447.756866           0.770267      7  2.527475   \n",
       "4  458.629303           0.758141      7  2.553109   \n",
       "3  452.694031           0.760210      7  2.562690   \n",
       "1  453.205139           0.794919      7  2.634180   \n",
       "\n",
       "                            Image  \n",
       "2  2018-07-04T12_04_17.738369.png  \n",
       "0  2018-07-04T12_04_19.294027.png  \n",
       "4  2018-07-04T12_04_18.745060.png  \n",
       "3  2018-07-04T12_04_18.311401.png  \n",
       "1  2018-07-04T12_04_17.738369.png  \n",
       "\n",
       "[5 rows x 55 columns]"
      ]
     },
     "execution_count": 4,
     "metadata": {},
     "output_type": "execute_result"
    }
   ],
   "source": [
    "df.sort_values(by=['Score'])"
   ]
  },
  {
   "cell_type": "code",
   "execution_count": 5,
   "metadata": {},
   "outputs": [
    {
     "data": {
      "text/plain": [
       "5"
      ]
     },
     "execution_count": 5,
     "metadata": {},
     "output_type": "execute_result"
    }
   ],
   "source": [
    "len(df)"
   ]
  },
  {
   "cell_type": "code",
   "execution_count": 6,
   "metadata": {},
   "outputs": [],
   "source": [
    "df.drop_duplicates(subset =\"Image\", keep = 'first', inplace = True)"
   ]
  },
  {
   "cell_type": "code",
   "execution_count": 7,
   "metadata": {},
   "outputs": [
    {
     "data": {
      "text/plain": [
       "4"
      ]
     },
     "execution_count": 7,
     "metadata": {},
     "output_type": "execute_result"
    }
   ],
   "source": [
    "len(df)"
   ]
  },
  {
   "cell_type": "code",
   "execution_count": 8,
   "metadata": {},
   "outputs": [],
   "source": [
    "df.to_csv('output_no_repeated.csv',sep=\";\",decimal=\",\",index=None)"
   ]
  },
  {
   "cell_type": "code",
   "execution_count": 9,
   "metadata": {},
   "outputs": [
    {
     "data": {
      "text/plain": [
       "Index(['Unnamed: 0', 'X_nose', 'Y_nose', 'confidence_nose', 'X_Leye', 'Y_Leye',\n",
       "       'confidence_Leye', 'X_Reye', 'Y_Reye', 'confidence_Reye', 'X_Lear',\n",
       "       'Y_Lear', 'confidence_Lear', 'X_Rear', 'Y_Rear', 'confidence_Rear',\n",
       "       'X_LShoulder', 'Y_LShoulder', 'confidence_LShoulder', 'X_RShoulder',\n",
       "       'Y_RShoulder', 'confidence_RShoulder', 'X_LElbow', 'Y_LElbow',\n",
       "       'confidence_LElbow', 'X_RElbow', 'Y_RElbow', 'confidence_RElbow',\n",
       "       'X_LWrist', 'Y_LWrist', 'confidence_LWrist', 'X_RWrist', 'Y_RWrist',\n",
       "       'confidence_RWrist', 'X_LHip', 'Y_LHip', 'confidence_LHip', 'X_RHip',\n",
       "       'Y_RHip', 'confidence_RHip', 'X_LKnee', 'Y_LKnee', 'confidence_LKnee',\n",
       "       'X_RKnee', 'Y_RKnee', 'confidence_RKnee', 'X_LAnkle', 'Y_LAnkle',\n",
       "       'confidence_LAnkle', 'X_RAnkle', 'Y_RAnkle', 'confidence_RAnkle',\n",
       "       'Label', 'Score', 'Image'],\n",
       "      dtype='object')"
      ]
     },
     "execution_count": 9,
     "metadata": {},
     "output_type": "execute_result"
    }
   ],
   "source": [
    "df.columns"
   ]
  },
  {
   "cell_type": "code",
   "execution_count": 10,
   "metadata": {},
   "outputs": [],
   "source": [
    "df['Image'].to_csv('image_no_repeated.csv',index=None)"
   ]
  },
  {
   "cell_type": "code",
   "execution_count": 11,
   "metadata": {},
   "outputs": [],
   "source": [
    "df['Label'].to_csv('label_no_repeated.csv',index=None,header=True)"
   ]
  },
  {
   "cell_type": "code",
   "execution_count": 12,
   "metadata": {},
   "outputs": [],
   "source": [
    "df = df.drop(['Unnamed: 0'], axis=1)"
   ]
  },
  {
   "cell_type": "code",
   "execution_count": 13,
   "metadata": {},
   "outputs": [],
   "source": [
    "df = df.drop(['Image'], axis=1)"
   ]
  },
  {
   "cell_type": "code",
   "execution_count": 14,
   "metadata": {},
   "outputs": [],
   "source": [
    "df = df.drop(['Score'], axis=1)"
   ]
  },
  {
   "cell_type": "code",
   "execution_count": 15,
   "metadata": {},
   "outputs": [],
   "source": [
    "df = df.drop(['Label'], axis=1)"
   ]
  },
  {
   "cell_type": "code",
   "execution_count": 16,
   "metadata": {},
   "outputs": [],
   "source": [
    "df.to_csv('features_no_repeated.csv',index=None,header=True)"
   ]
  }
 ],
 "metadata": {
  "kernelspec": {
   "display_name": "Python 3",
   "language": "python",
   "name": "python3"
  },
  "language_info": {
   "codemirror_mode": {
    "name": "ipython",
    "version": 3
   },
   "file_extension": ".py",
   "mimetype": "text/x-python",
   "name": "python",
   "nbconvert_exporter": "python",
   "pygments_lexer": "ipython3",
   "version": "3.8.5"
  }
 },
 "nbformat": 4,
 "nbformat_minor": 2
}
